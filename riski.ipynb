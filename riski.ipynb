{
 "cells": [
  {
   "cell_type": "code",
   "execution_count": 1,
   "metadata": {},
   "outputs": [],
   "source": [
    "import numpy as np\n",
    "import pandas as pd\n",
    "import yfinance as yf\n",
    "import sys\n",
    "import math\n",
    "import scipy\n",
    "from scipy.stats import norm\n",
    "from statsmodels.distributions.empirical_distribution import ECDF\n",
    "import matplotlib.pyplot as plt\n",
    "import seaborn"
   ]
  },
  {
   "cell_type": "markdown",
   "metadata": {},
   "source": [
    "# Electonic Arts"
   ]
  },
  {
   "cell_type": "code",
   "execution_count": 10,
   "metadata": {},
   "outputs": [
    {
     "name": "stdout",
     "output_type": "stream",
     "text": [
      "[*********************100%***********************]  1 of 1 completed\n",
      "                Close\n",
      "Date                 \n",
      "2020-10-21  23.500000\n",
      "2020-10-22  24.040001\n",
      "2020-10-23  23.030001\n",
      "2020-10-26  23.750000\n",
      "2020-10-27  22.559999\n",
      "2020-10-28  21.000000\n",
      "2020-10-29  22.950001\n",
      "2020-10-30  22.000000\n",
      "2020-11-02  22.049999\n",
      "2020-11-03  24.350000\n",
      "2020-11-04  25.750000\n",
      "2020-11-05  25.150000\n",
      "2020-11-06  25.100000\n",
      "2020-11-09  25.500000\n",
      "2020-11-10  24.799999\n",
      "2020-11-11  25.110001\n",
      "2020-11-12  25.105000\n",
      "2020-11-13  24.299999\n",
      "2020-11-16  24.010000\n",
      "2020-11-17  25.000000\n",
      "2020-11-18  24.770000\n",
      "2020-11-19  24.000000\n",
      "2020-11-20  25.344999\n",
      "2020-11-23  25.500000\n",
      "2020-11-24  25.010000\n",
      "2020-11-25  24.900000\n",
      "2020-11-27  24.889999\n",
      "2020-11-30  26.520000\n",
      "2020-12-01  28.350000\n",
      "2020-12-02  29.160000\n",
      "...               ...\n",
      "2021-02-03  19.459999\n",
      "2021-02-04  19.330000\n",
      "2021-02-05  19.610001\n",
      "2021-02-08  19.465000\n",
      "2021-02-09  18.650000\n",
      "2021-02-10  18.370001\n",
      "2021-02-11  18.080000\n",
      "2021-02-12  17.900000\n",
      "2021-02-16  18.320000\n",
      "2021-02-17  18.299999\n",
      "2021-02-18  18.450001\n",
      "2021-02-19  18.200001\n",
      "2021-02-22  17.549999\n",
      "2021-02-23  17.299999\n",
      "2021-02-24  17.030001\n",
      "2021-02-25  16.910000\n",
      "2021-02-26  16.250000\n",
      "2021-03-01  15.800000\n",
      "2021-03-02  16.100000\n",
      "2021-03-03  15.165000\n",
      "2021-03-04  15.115000\n",
      "2021-03-05  15.050000\n",
      "2021-03-08  14.940000\n",
      "2021-03-09  14.800000\n",
      "2021-03-10  14.000000\n",
      "2021-03-11  14.725000\n",
      "2021-03-12  14.900000\n",
      "2021-03-15  15.380000\n",
      "2021-03-16  15.130000\n",
      "2021-03-17  15.205000\n",
      "\n",
      "[101 rows x 1 columns]\n"
     ]
    }
   ],
   "source": [
    "df = yf.download('OTGLY', '2020-10-22', '2021-03-18')\n",
    "v_ea = df[['Close']]\n",
    "print(v_ea)"
   ]
  },
  {
   "cell_type": "code",
   "execution_count": 11,
   "metadata": {},
   "outputs": [
    {
     "name": "stdout",
     "output_type": "stream",
     "text": [
      "1.0229787623628657\n",
      "0.9579866809310527\n",
      "1.0312635385100966\n",
      "0.9498947143554688\n",
      "0.9308510858656078\n",
      "1.092857179187593\n",
      "0.958605632620564\n",
      "1.0022726925936611\n",
      "1.1043084455324357\n",
      "1.0574948499629457\n",
      "0.9766990143118552\n",
      "0.9980119587348341\n",
      "1.0159362395398837\n",
      "0.9725489896886489\n",
      "1.0125000557591854\n",
      "0.9998008336123587\n",
      "0.9679346616270015\n",
      "0.9880658840623984\n",
      "1.0412328097326415\n",
      "0.9908000183105469\n",
      "0.9689139909756308\n",
      "1.0560416380564372\n",
      "1.0061156319133864\n",
      "0.9807843227012485\n",
      "0.9956017349322319\n",
      "0.9995983843761028\n",
      "1.0654881923698696\n",
      "1.06900452081894\n",
      "1.0285714093489684\n",
      "0.9979424051352419\n",
      "1.0652920822550969\n",
      "0.9145161413377331\n",
      "0.9749558736413505\n",
      "1.0014472111581278\n",
      "0.9015534555120583\n",
      "0.9168502997682519\n",
      "0.9069056276706946\n",
      "0.9879518072289156\n",
      "1.0341463786799734\n",
      "1.0372641028183234\n",
      "0.841291504891148\n",
      "0.9713513142353779\n",
      "1.0740122412090276\n",
      "0.9792746303449494\n",
      "0.9708995106792856\n",
      "1.0297002760198468\n",
      "1.0039692433857552\n",
      "0.9778597737745687\n",
      "0.9870620064156835\n",
      "1.013107579362008\n",
      "0.9811321569533091\n",
      "1.006593347629365\n",
      "0.9377729580437433\n",
      "0.9476135272093603\n",
      "1.0175061323950616\n",
      "1.0111680929657698\n",
      "1.0071642292079641\n",
      "1.0729104612357696\n",
      "0.9640884196225916\n",
      "0.9616045818337785\n",
      "1.0163885344026913\n",
      "1.0161242810676947\n",
      "0.9786496918140625\n",
      "1.0734080723137085\n",
      "1.093106273107809\n",
      "1.05025125724469\n",
      "1.1095694237954432\n",
      "0.8904699932284601\n",
      "0.9903148252162024\n",
      "0.9386307569049283\n",
      "1.0138056469841932\n",
      "0.9933196728220646\n",
      "1.014485291658078\n",
      "0.992605790247292\n",
      "0.9581299497729897\n",
      "0.9849866603204285\n",
      "0.9842133422820548\n",
      "0.9900442308664078\n",
      "1.023463691913108\n",
      "0.9989082719379454\n",
      "1.0081968050345669\n",
      "0.9864498650589665\n",
      "0.9642856319433514\n",
      "0.9857549851357217\n",
      "0.9843931466865825\n",
      "0.9929535622786263\n",
      "0.9609698490025051\n",
      "0.9723077040452224\n",
      "1.0189873536147667\n",
      "0.9419254411513657\n",
      "0.9967029218027935\n",
      "0.9956996638195456\n",
      "0.9926909894380412\n",
      "0.990629223990591\n",
      "0.9459459337550765\n",
      "1.0517857415335519\n",
      "1.01188449796448\n",
      "1.032214799208028\n",
      "0.9837451236580119\n",
      "1.004957026351477\n"
     ]
    }
   ],
   "source": [
    "d_ea=np.zeros(100)\n",
    "for i in range(100):\n",
    "    d_ea[i] = v_ea.Close[i+1]/v_ea.Close[i]  \n",
    "for i in range(100):\n",
    "    print(d_ea[i])"
   ]
  },
  {
   "cell_type": "code",
   "execution_count": 12,
   "metadata": {},
   "outputs": [
    {
     "data": {
      "text/plain": [
       "Text(0.5, 1.0, 'Electronic Arts')"
      ]
     },
     "execution_count": 12,
     "metadata": {},
     "output_type": "execute_result"
    },
    {
     "data": {
      "image/png": "[encoded data removed]",
      "text/plain": [
       "<Figure size 432x288 with 1 Axes>"
      ]
     },
     "metadata": {
      "needs_background": "light"
     },
     "output_type": "display_data"
    }
   ],
   "source": [
    "ecdf = ECDF(d_ea)\n",
    "plt.plot(ecdf.x,ecdf.y)\n",
    "plt.title(\"Electronic Arts\")"
   ]
  },
  {
   "cell_type": "code",
   "execution_count": 14,
   "metadata": {},
   "outputs": [
    {
     "name": "stdout",
     "output_type": "stream",
     "text": [
      "0.9168502997682519\n"
     ]
    }
   ],
   "source": [
    "def var(returns, alpha):\n",
    "    # This method calculates the historical simulation var of the returns\n",
    "    sorted_returns = np.sort(returns)\n",
    "    # Calculate the index associated with alpha\n",
    "    index = int(alpha * len(sorted_returns))\n",
    "    # VaR should be positive\n",
    "    return abs(sorted_returns[index])\n",
    "\n",
    "print(var(d_ea, 0.05))"
   ]
  },
  {
   "cell_type": "code",
   "execution_count": 16,
   "metadata": {},
   "outputs": [
    {
     "name": "stdout",
     "output_type": "stream",
     "text": [
      "0.9217939012967042\n"
     ]
    }
   ],
   "source": [
    "ea_mean = np.mean(d_ea)\n",
    "ea_std = np.std(d_ea)\n",
    "var95_ea = norm.ppf(0.05, ea_mean, ea_std)\n",
    "print(var95_ea)"
   ]
  },
  {
   "cell_type": "code",
   "execution_count": 101,
   "metadata": {},
   "outputs": [
    {
     "name": "stdout",
     "output_type": "stream",
     "text": [
      "0.9537173102101854\n"
     ]
    }
   ],
   "source": [
    "s_var = np.sort(d_ea)[0]\n",
    "for i in range(1, 5):\n",
    "    s_var += np.sort(d_ea)[i]\n",
    "cvar95_ea = abs(s_var / 5)\n",
    "print(cvar95_ea)"
   ]
  },
  {
   "cell_type": "markdown",
   "metadata": {},
   "source": [
    "# Activision Blizzard"
   ]
  },
  {
   "cell_type": "code",
   "execution_count": 102,
   "metadata": {},
   "outputs": [
    {
     "name": "stdout",
     "output_type": "stream",
     "text": [
      "[*********************100%***********************]  1 of 1 completed\n"
     ]
    }
   ],
   "source": [
    "df = yf.download('ATVI', '2020-10-22', '2021-03-18')\n",
    "v_atvi = df[['Close']]"
   ]
  },
  {
   "cell_type": "code",
   "execution_count": 144,
   "metadata": {},
   "outputs": [
    {
     "name": "stdout",
     "output_type": "stream",
     "text": [
      "0.9857211891203385\n",
      "1.0033428783419929\n",
      "0.9932131904547841\n",
      "1.0058392500084123\n",
      "0.9759140690428172\n",
      "0.9843057149773768\n",
      "0.9737688906494933\n",
      "1.0088471958173229\n",
      "0.9981675472925087\n",
      "1.040781543708796\n",
      "1.0097013558828378\n",
      "0.9834040199502861\n",
      "0.9568583428269168\n",
      "0.9961543442322751\n",
      "1.0190362120991914\n",
      "1.0020900852558643\n",
      "1.0109503842694634\n",
      "0.9985815524690805\n",
      "0.9957386128531649\n",
      "0.979120728859968\n",
      "1.005695368280474\n",
      "1.0115895858011472\n",
      "0.9884129746395381\n",
      "0.9909115538902377\n",
      "1.017014471915199\n",
      "1.0213043681598082\n",
      "1.0171487583536207\n",
      "1.0056617630754408\n",
      "0.9902414765880294\n",
      "0.9954516664129961\n",
      "1.0265261621221626\n",
      "1.0171859475377232\n",
      "1.016530942820528\n",
      "0.9874447512035478\n",
      "1.0064180039663981\n",
      "1.0068583767373145\n",
      "1.0270076736136278\n",
      "1.0114032545927285\n",
      "1.0149563170633185\n",
      "1.0027204472959497\n",
      "1.021591721477246\n",
      "0.98273757728698\n",
      "1.0068686029402163\n",
      "1.0088347230116774\n",
      "1.0083139342380183\n",
      "1.0051671198926315\n",
      "0.9993437869584\n",
      "1.002298337289702\n",
      "1.0138676197605814\n",
      "0.9682283576012723\n",
      "1.008787551747704\n",
      "0.9703384897012851\n",
      "1.018977251919833\n",
      "1.0181778177327654\n",
      "0.9957283748454274\n",
      "0.9817401430509319\n",
      "1.0058262929195116\n",
      "1.0024507210530247\n",
      "1.0077786931242783\n",
      "1.0271253613215199\n",
      "1.02114869767507\n",
      "0.9945331764355987\n",
      "0.998202979157639\n",
      "0.9890924623957624\n",
      "0.9890791835567763\n",
      "0.9598398008792386\n",
      "1.018044417583866\n",
      "1.0080868880478646\n",
      "1.0046153644939044\n",
      "1.0280026825559256\n",
      "0.9871248492163635\n",
      "0.9990298982306005\n",
      "1.0963530457031847\n",
      "0.9958665666133012\n",
      "1.015218903828163\n",
      "1.0002920157531061\n",
      "1.0046710365663747\n",
      "1.0055211130048294\n",
      "0.991811978671502\n",
      "0.9940753630946413\n",
      "0.9990229753237722\n",
      "0.9858191007506877\n",
      "0.9581349097922519\n",
      "0.9983433044204196\n",
      "0.992429000815163\n",
      "0.9938342151506744\n",
      "1.005362798574274\n",
      "1.0325279844210653\n",
      "0.980044558383879\n",
      "0.9685788019066941\n",
      "0.9768434725200539\n",
      "1.011361163481821\n",
      "0.9635990205235488\n",
      "1.0368792842651198\n",
      "0.9871351087415541\n",
      "1.0178513298258114\n",
      "1.0010759465407173\n",
      "0.9950558998286092\n",
      "1.0075609951868394\n",
      "0.9909948933438767\n"
     ]
    }
   ],
   "source": [
    "d_atvi=np.zeros(100)\n",
    "for i in range(100):\n",
    "    d_atvi[i] = v_atvi.Close[i+1]/v_atvi.Close[i]  \n",
    "for i in range(100):\n",
    "    print(d_atvi[i])    \n",
    "    "
   ]
  },
  {
   "cell_type": "code",
   "execution_count": 104,
   "metadata": {},
   "outputs": [
    {
     "data": {
      "text/plain": [
       "Text(0.5, 1.0, 'Activision Blizzard')"
      ]
     },
     "execution_count": 104,
     "metadata": {},
     "output_type": "execute_result"
    },
    {
     "data": {
      "image/png": "[encoded data removed]",
      "text/plain": [
       "<Figure size 432x288 with 1 Axes>"
      ]
     },
     "metadata": {
      "needs_background": "light"
     },
     "output_type": "display_data"
    }
   ],
   "source": [
    "ecdf = ECDF(d_atvi)\n",
    "plt.plot(ecdf.x,ecdf.y)\n",
    "plt.title(\"Activision Blizzard\")"
   ]
  },
  {
   "cell_type": "code",
   "execution_count": 105,
   "metadata": {},
   "outputs": [
    {
     "name": "stdout",
     "output_type": "stream",
     "text": [
      "0.9694722933026952\n"
     ]
    }
   ],
   "source": [
    "atvi_mean = np.mean(d_atvi)\n",
    "atvi_std = np.std(d_atvi)\n",
    "var95_atvi = norm.ppf(1-0.95, atvi_mean, atvi_std)\n",
    "print(var95_atvi)"
   ]
  },
  {
   "cell_type": "code",
   "execution_count": 130,
   "metadata": {},
   "outputs": [
    {
     "name": "stdout",
     "output_type": "stream",
     "text": [
      "0.9613320863246457\n"
     ]
    }
   ],
   "source": [
    "s_var = np.sort(d_atvi)[0]\n",
    "for i in range(1, 5):\n",
    "    s_var += np.sort(d_atvi)[i]\n",
    "cvar95_atvi = abs(s_var / 5)\n",
    "print(cvar95_atvi)"
   ]
  },
  {
   "cell_type": "markdown",
   "metadata": {},
   "source": [
    "# Portfolio Optimization"
   ]
  },
  {
   "cell_type": "code",
   "execution_count": 107,
   "metadata": {},
   "outputs": [
    {
     "name": "stdout",
     "output_type": "stream",
     "text": [
      "0.9728232566079258 55\n"
     ]
    }
   ],
   "source": [
    "p_var_max = 0\n",
    "p_var = 0\n",
    "j = 0\n",
    "for i in range(100):\n",
    "    p_mean = np.mean(i/100 * d_ea + (1 - i/100) * d_atvi)\n",
    "    p_std = np.std(i/100 * d_ea + (1 - i/100) * d_atvi)\n",
    "    p_var = norm.ppf(1-0.95, p_mean, p_std)\n",
    "    if(p_var > p_var_max):\n",
    "        p_var_max = p_var\n",
    "        j = i      \n",
    "print(p_var_max, j)"
   ]
  },
  {
   "cell_type": "code",
   "execution_count": 139,
   "metadata": {},
   "outputs": [
    {
     "name": "stdout",
     "output_type": "stream",
     "text": [
      "0.9652916452559118 74\n"
     ]
    }
   ],
   "source": [
    "p_cvar_max = 0\n",
    "p_cvar = 0\n",
    "n = 0\n",
    "for i in range(100):  \n",
    "    port_cvar = np.zeros(100)\n",
    "    for j in range(100):\n",
    "        port_cvar[j] = i/100 * d_atvi[j] + (1 - i/100) * d_ea[j]\n",
    "    s_var = np.sort(port_cvar)[0]\n",
    "    for j in range(1, 5):\n",
    "        s_var += np.sort(port_cvar)[j]\n",
    "    p_cvar = abs(s_var / 5)\n",
    "    if(p_cvar > p_cvar_max):\n",
    "        p_cvar_max = p_cvar\n",
    "        n = i\n",
    "print(p_cvar_max, n)    "
   ]
  },
  {
   "cell_type": "code",
   "execution_count": null,
   "metadata": {},
   "outputs": [],
   "source": []
  }
 ],
 "metadata": {
  "kernelspec": {
   "display_name": "Python 3",
   "language": "python",
   "name": "python3"
  },
  "language_info": {
   "codemirror_mode": {
    "name": "ipython",
    "version": 3
   },
   "file_extension": ".py",
   "mimetype": "text/x-python",
   "name": "python",
   "nbconvert_exporter": "python",
   "pygments_lexer": "ipython3",
   "version": "3.8.8"
  }
 },
 "nbformat": 4,
 "nbformat_minor": 2
}
